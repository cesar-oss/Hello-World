{
  "nbformat": 4,
  "nbformat_minor": 0,
  "metadata": {
    "colab": {
      "name": "Continuando com Collections",
      "provenance": [],
      "collapsed_sections": [],
      "authorship_tag": "ABX9TyMrQLAliO2n1UxRO6V2WCKu",
      "include_colab_link": true
    },
    "kernelspec": {
      "name": "python3",
      "display_name": "Python 3"
    }
  },
  "cells": [
    {
      "cell_type": "markdown",
      "metadata": {
        "id": "view-in-github",
        "colab_type": "text"
      },
      "source": [
        "<a href=\"https://colab.research.google.com/github/cesar-oss/Hello-World/blob/master/Continuando_com_Collections.ipynb\" target=\"_parent\"><img src=\"https://colab.research.google.com/assets/colab-badge.svg\" alt=\"Open In Colab\"/></a>"
      ]
    },
    {
      "cell_type": "code",
      "metadata": {
        "id": "HH_GovZb05dV",
        "colab_type": "code",
        "colab": {}
      },
      "source": [
        "usuarios_data_science = [15, 23, 43, 56]\n",
        "usuarios_machine_learning = [13, 23, 56, 42]"
      ],
      "execution_count": 0,
      "outputs": []
    },
    {
      "cell_type": "code",
      "metadata": {
        "id": "IRxeZA1I1kM7",
        "colab_type": "code",
        "outputId": "73a7bbb9-b9bc-4166-e46c-83373d2c2472",
        "colab": {
          "base_uri": "https://localhost:8080/",
          "height": 34
        }
      },
      "source": [
        "assistiram = usuarios_data_science.copy()\n",
        "assistiram.extend(usuarios_machine_learning)\n",
        "assistiram"
      ],
      "execution_count": 0,
      "outputs": [
        {
          "output_type": "execute_result",
          "data": {
            "text/plain": [
              "[15, 23, 43, 56, 13, 23, 56, 42]"
            ]
          },
          "metadata": {
            "tags": []
          },
          "execution_count": 8
        }
      ]
    },
    {
      "cell_type": "code",
      "metadata": {
        "id": "kYm_1TJr2T0Z",
        "colab_type": "code",
        "outputId": "8bc359b1-a816-4732-8740-d2e44e89a040",
        "colab": {
          "base_uri": "https://localhost:8080/",
          "height": 34
        }
      },
      "source": [
        "len(assistiram)"
      ],
      "execution_count": 0,
      "outputs": [
        {
          "output_type": "execute_result",
          "data": {
            "text/plain": [
              "8"
            ]
          },
          "metadata": {
            "tags": []
          },
          "execution_count": 9
        }
      ]
    },
    {
      "cell_type": "code",
      "metadata": {
        "id": "6oM22I9_2hrJ",
        "colab_type": "code",
        "outputId": "35f53cca-2c54-4da7-91f2-98924ff72381",
        "colab": {
          "base_uri": "https://localhost:8080/",
          "height": 34
        }
      },
      "source": [
        "set(assistiram)"
      ],
      "execution_count": 0,
      "outputs": [
        {
          "output_type": "execute_result",
          "data": {
            "text/plain": [
              "{13, 15, 23, 42, 43, 56}"
            ]
          },
          "metadata": {
            "tags": []
          },
          "execution_count": 10
        }
      ]
    },
    {
      "cell_type": "code",
      "metadata": {
        "id": "PymoBa2b3HwN",
        "colab_type": "code",
        "colab": {}
      },
      "source": [
        "usuarios_data_science = {15,23,43,56}"
      ],
      "execution_count": 0,
      "outputs": []
    },
    {
      "cell_type": "code",
      "metadata": {
        "id": "9XEu8kMd34n-",
        "colab_type": "code",
        "colab": {}
      },
      "source": [
        "usuarios_machine_learning = {13,23,56,42}"
      ],
      "execution_count": 0,
      "outputs": []
    },
    {
      "cell_type": "code",
      "metadata": {
        "id": "7YUxmt2v3-uu",
        "colab_type": "code",
        "outputId": "98ec8b41-e71b-497d-9973-e6141e87c432",
        "colab": {
          "base_uri": "https://localhost:8080/",
          "height": 34
        }
      },
      "source": [
        "usuarios_data_science"
      ],
      "execution_count": 0,
      "outputs": [
        {
          "output_type": "execute_result",
          "data": {
            "text/plain": [
              "{15, 23, 43, 56}"
            ]
          },
          "metadata": {
            "tags": []
          },
          "execution_count": 13
        }
      ]
    },
    {
      "cell_type": "code",
      "metadata": {
        "id": "i3bFVSbh4AL-",
        "colab_type": "code",
        "outputId": "2bf5197f-1f31-458c-c898-762ef7a5c57b",
        "colab": {
          "base_uri": "https://localhost:8080/",
          "height": 34
        }
      },
      "source": [
        "usuarios_machine_learning"
      ],
      "execution_count": 0,
      "outputs": [
        {
          "output_type": "execute_result",
          "data": {
            "text/plain": [
              "{13, 23, 42, 56}"
            ]
          },
          "metadata": {
            "tags": []
          },
          "execution_count": 14
        }
      ]
    },
    {
      "cell_type": "code",
      "metadata": {
        "id": "5hJIMVcA4BaO",
        "colab_type": "code",
        "outputId": "baf78493-c202-434a-fd53-93ea3450bc2c",
        "colab": {
          "base_uri": "https://localhost:8080/",
          "height": 163
        }
      },
      "source": [
        "usuarios_machine_learning[3]"
      ],
      "execution_count": 0,
      "outputs": [
        {
          "output_type": "error",
          "ename": "TypeError",
          "evalue": "ignored",
          "traceback": [
            "\u001b[0;31m---------------------------------------------------------------------------\u001b[0m",
            "\u001b[0;31mTypeError\u001b[0m                                 Traceback (most recent call last)",
            "\u001b[0;32m<ipython-input-15-ae55a602a7d7>\u001b[0m in \u001b[0;36m<module>\u001b[0;34m()\u001b[0m\n\u001b[0;32m----> 1\u001b[0;31m \u001b[0musuarios_machine_learning\u001b[0m\u001b[0;34m[\u001b[0m\u001b[0;36m3\u001b[0m\u001b[0;34m]\u001b[0m\u001b[0;34m\u001b[0m\u001b[0;34m\u001b[0m\u001b[0m\n\u001b[0m",
            "\u001b[0;31mTypeError\u001b[0m: 'set' object does not support indexing"
          ]
        }
      ]
    },
    {
      "cell_type": "code",
      "metadata": {
        "id": "MNGurxOX4Jbe",
        "colab_type": "code",
        "outputId": "05af51ec-c71d-41c9-f68c-0a1d5903ccfd",
        "colab": {
          "base_uri": "https://localhost:8080/",
          "height": 119
        }
      },
      "source": [
        "for usuario in set(assistiram):\n",
        "  print(usuario)"
      ],
      "execution_count": 0,
      "outputs": [
        {
          "output_type": "stream",
          "text": [
            "42\n",
            "43\n",
            "13\n",
            "15\n",
            "23\n",
            "56\n"
          ],
          "name": "stdout"
        }
      ]
    },
    {
      "cell_type": "code",
      "metadata": {
        "id": "GAXyeoXW4iqw",
        "colab_type": "code",
        "colab": {}
      },
      "source": [
        "usuarios_data_science = {15,23,43,56}\n",
        "usuarios_machine_learning = {13,23,42,56}"
      ],
      "execution_count": 0,
      "outputs": []
    },
    {
      "cell_type": "code",
      "metadata": {
        "id": "2DqsVMh_5DFR",
        "colab_type": "code",
        "outputId": "d065faa5-7043-4f7c-b164-6c9a9e894362",
        "colab": {
          "base_uri": "https://localhost:8080/",
          "height": 34
        }
      },
      "source": [
        "usuarios_data_science | usuarios_machine_learning"
      ],
      "execution_count": 0,
      "outputs": [
        {
          "output_type": "execute_result",
          "data": {
            "text/plain": [
              "{13, 15, 23, 42, 43, 56}"
            ]
          },
          "metadata": {
            "tags": []
          },
          "execution_count": 19
        }
      ]
    },
    {
      "cell_type": "code",
      "metadata": {
        "id": "zNPAnjMB5FlB",
        "colab_type": "code",
        "outputId": "336770aa-93b6-42e8-b8c1-6cb3f7259404",
        "colab": {
          "base_uri": "https://localhost:8080/",
          "height": 34
        }
      },
      "source": [
        "usuarios_data_science & usuarios_machine_learning"
      ],
      "execution_count": 0,
      "outputs": [
        {
          "output_type": "execute_result",
          "data": {
            "text/plain": [
              "{23, 56}"
            ]
          },
          "metadata": {
            "tags": []
          },
          "execution_count": 20
        }
      ]
    },
    {
      "cell_type": "code",
      "metadata": {
        "id": "xmdrtP7h5jwx",
        "colab_type": "code",
        "outputId": "dad71e7b-bb72-4bd9-c989-aeeb5dfc33f0",
        "colab": {
          "base_uri": "https://localhost:8080/",
          "height": 34
        }
      },
      "source": [
        "usuarios_data_science - usuarios_machine_learning"
      ],
      "execution_count": 0,
      "outputs": [
        {
          "output_type": "execute_result",
          "data": {
            "text/plain": [
              "{15, 43}"
            ]
          },
          "metadata": {
            "tags": []
          },
          "execution_count": 21
        }
      ]
    },
    {
      "cell_type": "code",
      "metadata": {
        "id": "nSe01A0l59Fi",
        "colab_type": "code",
        "outputId": "63acf153-2339-4655-8070-a869de1bc29e",
        "colab": {
          "base_uri": "https://localhost:8080/",
          "height": 34
        }
      },
      "source": [
        "fez_dc_mas_nao_fez_ml = usuarios_data_science - usuarios_machine_learning\n",
        "15 in fez_dc_mas_nao_fez_ml"
      ],
      "execution_count": 0,
      "outputs": [
        {
          "output_type": "execute_result",
          "data": {
            "text/plain": [
              "True"
            ]
          },
          "metadata": {
            "tags": []
          },
          "execution_count": 22
        }
      ]
    },
    {
      "cell_type": "code",
      "metadata": {
        "id": "JNrSuiRp6YMG",
        "colab_type": "code",
        "outputId": "395fd3a9-c4c3-4c02-bbd8-f6124eafbb66",
        "colab": {
          "base_uri": "https://localhost:8080/",
          "height": 34
        }
      },
      "source": [
        "23 in fez_dc_mas_nao_fez_ml"
      ],
      "execution_count": 0,
      "outputs": [
        {
          "output_type": "execute_result",
          "data": {
            "text/plain": [
              "False"
            ]
          },
          "metadata": {
            "tags": []
          },
          "execution_count": 23
        }
      ]
    },
    {
      "cell_type": "code",
      "metadata": {
        "id": "1y5ug5Bx6d11",
        "colab_type": "code",
        "outputId": "7bb55961-d34e-4f6f-b24c-57f2a4f543b8",
        "colab": {
          "base_uri": "https://localhost:8080/",
          "height": 34
        }
      },
      "source": [
        "usuarios_data_science ^ usuarios_machine_learning"
      ],
      "execution_count": 0,
      "outputs": [
        {
          "output_type": "execute_result",
          "data": {
            "text/plain": [
              "{13, 15, 42, 43}"
            ]
          },
          "metadata": {
            "tags": []
          },
          "execution_count": 24
        }
      ]
    },
    {
      "cell_type": "code",
      "metadata": {
        "id": "8TNyQCly6qsF",
        "colab_type": "code",
        "outputId": "eb929c12-1f12-4b6f-d240-8e7c5c7590be",
        "colab": {
          "base_uri": "https://localhost:8080/",
          "height": 34
        }
      },
      "source": [
        "usuarios = {1,5,76,34,52,13,17}\n",
        "len(usuarios)"
      ],
      "execution_count": 0,
      "outputs": [
        {
          "output_type": "execute_result",
          "data": {
            "text/plain": [
              "7"
            ]
          },
          "metadata": {
            "tags": []
          },
          "execution_count": 25
        }
      ]
    },
    {
      "cell_type": "code",
      "metadata": {
        "id": "SWG5FTqL9E06",
        "colab_type": "code",
        "outputId": "f75ab4e8-4f12-4042-e0a0-8e85522e94da",
        "colab": {
          "base_uri": "https://localhost:8080/",
          "height": 34
        }
      },
      "source": [
        "usuarios.add(13)\n",
        "len(usuarios)"
      ],
      "execution_count": 0,
      "outputs": [
        {
          "output_type": "execute_result",
          "data": {
            "text/plain": [
              "7"
            ]
          },
          "metadata": {
            "tags": []
          },
          "execution_count": 26
        }
      ]
    },
    {
      "cell_type": "code",
      "metadata": {
        "id": "QuGc6TVlA4fj",
        "colab_type": "code",
        "outputId": "db891343-97f0-4afa-c1c8-3be3fc7feecb",
        "colab": {
          "base_uri": "https://localhost:8080/",
          "height": 34
        }
      },
      "source": [
        "usuarios.add(763)\n",
        "len(usuarios)"
      ],
      "execution_count": 0,
      "outputs": [
        {
          "output_type": "execute_result",
          "data": {
            "text/plain": [
              "8"
            ]
          },
          "metadata": {
            "tags": []
          },
          "execution_count": 28
        }
      ]
    },
    {
      "cell_type": "code",
      "metadata": {
        "id": "Hn_CozbTA6vz",
        "colab_type": "code",
        "outputId": "0dee9b46-ac30-40f1-acdb-4b140b716411",
        "colab": {
          "base_uri": "https://localhost:8080/",
          "height": 34
        }
      },
      "source": [
        "usuarios"
      ],
      "execution_count": 0,
      "outputs": [
        {
          "output_type": "execute_result",
          "data": {
            "text/plain": [
              "{1, 5, 13, 17, 34, 52, 76, 763}"
            ]
          },
          "metadata": {
            "tags": []
          },
          "execution_count": 29
        }
      ]
    },
    {
      "cell_type": "code",
      "metadata": {
        "id": "k9okmesZBB01",
        "colab_type": "code",
        "outputId": "8f442182-7b4f-4e0b-d288-890ff901914f",
        "colab": {
          "base_uri": "https://localhost:8080/",
          "height": 34
        }
      },
      "source": [
        "usuarios = frozenset(usuarios)\n",
        "usuarios"
      ],
      "execution_count": 0,
      "outputs": [
        {
          "output_type": "execute_result",
          "data": {
            "text/plain": [
              "frozenset({1, 5, 13, 17, 34, 52, 76, 763})"
            ]
          },
          "metadata": {
            "tags": []
          },
          "execution_count": 31
        }
      ]
    },
    {
      "cell_type": "code",
      "metadata": {
        "id": "40341jMUBO41",
        "colab_type": "code",
        "outputId": "bc433173-024d-4016-d9d7-7e10d28f1642",
        "colab": {
          "base_uri": "https://localhost:8080/",
          "height": 34
        }
      },
      "source": [
        "type(usuarios)"
      ],
      "execution_count": 0,
      "outputs": [
        {
          "output_type": "execute_result",
          "data": {
            "text/plain": [
              "frozenset"
            ]
          },
          "metadata": {
            "tags": []
          },
          "execution_count": 32
        }
      ]
    },
    {
      "cell_type": "code",
      "metadata": {
        "id": "LKW-Cx8lBVU1",
        "colab_type": "code",
        "outputId": "8a2f6864-f455-486b-f815-7193335ed981",
        "colab": {
          "base_uri": "https://localhost:8080/",
          "height": 163
        }
      },
      "source": [
        "usuarios.add(123)"
      ],
      "execution_count": 0,
      "outputs": [
        {
          "output_type": "error",
          "ename": "AttributeError",
          "evalue": "ignored",
          "traceback": [
            "\u001b[0;31m---------------------------------------------------------------------------\u001b[0m",
            "\u001b[0;31mAttributeError\u001b[0m                            Traceback (most recent call last)",
            "\u001b[0;32m<ipython-input-33-9fd1d4cba1d7>\u001b[0m in \u001b[0;36m<module>\u001b[0;34m()\u001b[0m\n\u001b[0;32m----> 1\u001b[0;31m \u001b[0musuarios\u001b[0m\u001b[0;34m.\u001b[0m\u001b[0madd\u001b[0m\u001b[0;34m(\u001b[0m\u001b[0;36m123\u001b[0m\u001b[0;34m)\u001b[0m\u001b[0;34m\u001b[0m\u001b[0;34m\u001b[0m\u001b[0m\n\u001b[0m",
            "\u001b[0;31mAttributeError\u001b[0m: 'frozenset' object has no attribute 'add'"
          ]
        }
      ]
    },
    {
      "cell_type": "code",
      "metadata": {
        "id": "JOQ_GPvpBdvV",
        "colab_type": "code",
        "outputId": "6c30eb28-8847-4787-dcc6-4626b6486a82",
        "colab": {
          "base_uri": "https://localhost:8080/",
          "height": 340
        }
      },
      "source": [
        "meu_texto = 'Bem vindo meu nome é Guilherme eu gosto de nomes eu tenho um cachorro e gosto muito de cachorro'\n",
        "meu_texto.split()"
      ],
      "execution_count": 0,
      "outputs": [
        {
          "output_type": "execute_result",
          "data": {
            "text/plain": [
              "['Bem',\n",
              " 'vindo',\n",
              " 'meu',\n",
              " 'nome',\n",
              " 'é',\n",
              " 'Guilherme',\n",
              " 'eu',\n",
              " 'gosto',\n",
              " 'de',\n",
              " 'nomes',\n",
              " 'eu',\n",
              " 'tenho',\n",
              " 'um',\n",
              " 'cachorro',\n",
              " 'e',\n",
              " 'gosto',\n",
              " 'muito',\n",
              " 'de',\n",
              " 'cachorro']"
            ]
          },
          "metadata": {
            "tags": []
          },
          "execution_count": 34
        }
      ]
    },
    {
      "cell_type": "code",
      "metadata": {
        "id": "iH0tlNR5CC_q",
        "colab_type": "code",
        "outputId": "45d6afc1-0f05-40f2-cbea-e6498e95d16a",
        "colab": {
          "base_uri": "https://localhost:8080/",
          "height": 272
        }
      },
      "source": [
        "set(meu_texto.split())"
      ],
      "execution_count": 0,
      "outputs": [
        {
          "output_type": "execute_result",
          "data": {
            "text/plain": [
              "{'Bem',\n",
              " 'Guilherme',\n",
              " 'cachorro',\n",
              " 'de',\n",
              " 'e',\n",
              " 'eu',\n",
              " 'gosto',\n",
              " 'meu',\n",
              " 'muito',\n",
              " 'nome',\n",
              " 'nomes',\n",
              " 'tenho',\n",
              " 'um',\n",
              " 'vindo',\n",
              " 'é'}"
            ]
          },
          "metadata": {
            "tags": []
          },
          "execution_count": 35
        }
      ]
    },
    {
      "cell_type": "code",
      "metadata": {
        "id": "xD87ldY6CKCW",
        "colab_type": "code",
        "colab": {}
      },
      "source": [
        ""
      ],
      "execution_count": 0,
      "outputs": []
    },
    {
      "cell_type": "markdown",
      "metadata": {
        "id": "0cpKplLIPEdl",
        "colab_type": "text"
      },
      "source": [
        "#Dicionário (**Mapa** etc)"
      ]
    },
    {
      "cell_type": "code",
      "metadata": {
        "id": "ZhBVVfTBPLvS",
        "colab_type": "code",
        "colab": {}
      },
      "source": [
        "aparicoes = {\n",
        "  'Guilherme':1,\n",
        "  'cachorro':2,\n",
        "  'nome':2,\n",
        "  'vindo':1\n",
        "}"
      ],
      "execution_count": 0,
      "outputs": []
    },
    {
      "cell_type": "code",
      "metadata": {
        "id": "hW-D9y2dQbWj",
        "colab_type": "code",
        "outputId": "c7f3c231-ef2f-41d8-d7ac-f08e934196d4",
        "colab": {
          "base_uri": "https://localhost:8080/",
          "height": 34
        }
      },
      "source": [
        "type(aparicoes)"
      ],
      "execution_count": 0,
      "outputs": [
        {
          "output_type": "execute_result",
          "data": {
            "text/plain": [
              "dict"
            ]
          },
          "metadata": {
            "tags": []
          },
          "execution_count": 37
        }
      ]
    },
    {
      "cell_type": "code",
      "metadata": {
        "id": "8OtUhzSwQfvj",
        "colab_type": "code",
        "outputId": "8eb0aee7-580d-4692-acb8-f684ae1cd7d8",
        "colab": {
          "base_uri": "https://localhost:8080/",
          "height": 34
        }
      },
      "source": [
        "aparicoes['Guilherme']"
      ],
      "execution_count": 0,
      "outputs": [
        {
          "output_type": "execute_result",
          "data": {
            "text/plain": [
              "1"
            ]
          },
          "metadata": {
            "tags": []
          },
          "execution_count": 39
        }
      ]
    },
    {
      "cell_type": "code",
      "metadata": {
        "id": "mFgl1Z2kQh8D",
        "colab_type": "code",
        "outputId": "3ae4bfb9-5b81-4353-c3ea-c118bc03cae2",
        "colab": {
          "base_uri": "https://localhost:8080/",
          "height": 34
        }
      },
      "source": [
        "aparicoes['cachorro']"
      ],
      "execution_count": 0,
      "outputs": [
        {
          "output_type": "execute_result",
          "data": {
            "text/plain": [
              "2"
            ]
          },
          "metadata": {
            "tags": []
          },
          "execution_count": 40
        }
      ]
    },
    {
      "cell_type": "code",
      "metadata": {
        "id": "omVer6kJQtHT",
        "colab_type": "code",
        "outputId": "76562150-0594-4f13-bf32-5741e6d091e8",
        "colab": {
          "base_uri": "https://localhost:8080/",
          "height": 163
        }
      },
      "source": [
        "aparicoes['xpto']"
      ],
      "execution_count": 0,
      "outputs": [
        {
          "output_type": "error",
          "ename": "KeyError",
          "evalue": "ignored",
          "traceback": [
            "\u001b[0;31m---------------------------------------------------------------------------\u001b[0m",
            "\u001b[0;31mKeyError\u001b[0m                                  Traceback (most recent call last)",
            "\u001b[0;32m<ipython-input-41-623ce0312e46>\u001b[0m in \u001b[0;36m<module>\u001b[0;34m()\u001b[0m\n\u001b[0;32m----> 1\u001b[0;31m \u001b[0maparicoes\u001b[0m\u001b[0;34m[\u001b[0m\u001b[0;34m'xpto'\u001b[0m\u001b[0;34m]\u001b[0m\u001b[0;34m\u001b[0m\u001b[0;34m\u001b[0m\u001b[0m\n\u001b[0m",
            "\u001b[0;31mKeyError\u001b[0m: 'xpto'"
          ]
        }
      ]
    },
    {
      "cell_type": "code",
      "metadata": {
        "id": "7x_rnK5iQvYS",
        "colab_type": "code",
        "outputId": "67fb5b08-2d3e-41a4-9476-5cc7783cf549",
        "colab": {
          "base_uri": "https://localhost:8080/",
          "height": 34
        }
      },
      "source": [
        "aparicoes.get('xpto',0)"
      ],
      "execution_count": 0,
      "outputs": [
        {
          "output_type": "execute_result",
          "data": {
            "text/plain": [
              "0"
            ]
          },
          "metadata": {
            "tags": []
          },
          "execution_count": 42
        }
      ]
    },
    {
      "cell_type": "code",
      "metadata": {
        "id": "TB6T1A5fQ31z",
        "colab_type": "code",
        "colab": {}
      },
      "source": [
        "aparicoes = dict(Guilherme = 1, cachorro = 2)"
      ],
      "execution_count": 0,
      "outputs": []
    },
    {
      "cell_type": "code",
      "metadata": {
        "id": "YP5Xiq5BRPF3",
        "colab_type": "code",
        "outputId": "58113480-e475-4e64-e8b4-64e7f0ce1330",
        "colab": {
          "base_uri": "https://localhost:8080/",
          "height": 34
        }
      },
      "source": [
        "type(aparicoes)"
      ],
      "execution_count": 0,
      "outputs": [
        {
          "output_type": "execute_result",
          "data": {
            "text/plain": [
              "dict"
            ]
          },
          "metadata": {
            "tags": []
          },
          "execution_count": 8
        }
      ]
    },
    {
      "cell_type": "code",
      "metadata": {
        "id": "lYlaQhQMRRXV",
        "colab_type": "code",
        "outputId": "9853d134-4ccd-4dda-9b7d-f21f46a29a22",
        "colab": {
          "base_uri": "https://localhost:8080/",
          "height": 34
        }
      },
      "source": [
        "aparicoes"
      ],
      "execution_count": 0,
      "outputs": [
        {
          "output_type": "execute_result",
          "data": {
            "text/plain": [
              "{'Guilherme': 1, 'cachorro': 2}"
            ]
          },
          "metadata": {
            "tags": []
          },
          "execution_count": 9
        }
      ]
    },
    {
      "cell_type": "code",
      "metadata": {
        "id": "TUkNu0rvRSkV",
        "colab_type": "code",
        "colab": {}
      },
      "source": [
        "aparicoes['Carlos'] = 1"
      ],
      "execution_count": 0,
      "outputs": []
    },
    {
      "cell_type": "code",
      "metadata": {
        "id": "4yB6Mzm0KqMo",
        "colab_type": "code",
        "outputId": "c662b3d4-bfdc-4d49-93ec-aa9df94bbecb",
        "colab": {
          "base_uri": "https://localhost:8080/",
          "height": 34
        }
      },
      "source": [
        "aparicoes"
      ],
      "execution_count": 0,
      "outputs": [
        {
          "output_type": "execute_result",
          "data": {
            "text/plain": [
              "{'Carlos': 1, 'Guilherme': 1, 'cachorro': 2}"
            ]
          },
          "metadata": {
            "tags": []
          },
          "execution_count": 11
        }
      ]
    },
    {
      "cell_type": "code",
      "metadata": {
        "id": "daSHAvU7K_MU",
        "colab_type": "code",
        "colab": {}
      },
      "source": [
        "aparicoes['Carlos'] = 2"
      ],
      "execution_count": 0,
      "outputs": []
    },
    {
      "cell_type": "code",
      "metadata": {
        "id": "61KabvzaLDz1",
        "colab_type": "code",
        "outputId": "c1b48f21-3481-406e-d601-b5d53c6f3685",
        "colab": {
          "base_uri": "https://localhost:8080/",
          "height": 34
        }
      },
      "source": [
        "aparicoes"
      ],
      "execution_count": 0,
      "outputs": [
        {
          "output_type": "execute_result",
          "data": {
            "text/plain": [
              "{'Carlos': 2, 'Guilherme': 1, 'cachorro': 2}"
            ]
          },
          "metadata": {
            "tags": []
          },
          "execution_count": 13
        }
      ]
    },
    {
      "cell_type": "code",
      "metadata": {
        "id": "t1lsXDgeLEz1",
        "colab_type": "code",
        "colab": {}
      },
      "source": [
        "del aparicoes['Carlos']"
      ],
      "execution_count": 0,
      "outputs": []
    },
    {
      "cell_type": "code",
      "metadata": {
        "id": "GJ0wr2vuLLMG",
        "colab_type": "code",
        "outputId": "ffa8b544-a1ee-4c4c-af39-e37dcede8bee",
        "colab": {
          "base_uri": "https://localhost:8080/",
          "height": 34
        }
      },
      "source": [
        "aparicoes"
      ],
      "execution_count": 0,
      "outputs": [
        {
          "output_type": "execute_result",
          "data": {
            "text/plain": [
              "{'Guilherme': 1, 'cachorro': 2}"
            ]
          },
          "metadata": {
            "tags": []
          },
          "execution_count": 15
        }
      ]
    },
    {
      "cell_type": "code",
      "metadata": {
        "id": "Jox61ipcLMnW",
        "colab_type": "code",
        "outputId": "c6c3743e-9959-43d9-c402-2db26f4e9113",
        "colab": {
          "base_uri": "https://localhost:8080/",
          "height": 34
        }
      },
      "source": [
        "'cachorro' in aparicoes"
      ],
      "execution_count": 0,
      "outputs": [
        {
          "output_type": "execute_result",
          "data": {
            "text/plain": [
              "True"
            ]
          },
          "metadata": {
            "tags": []
          },
          "execution_count": 16
        }
      ]
    },
    {
      "cell_type": "code",
      "metadata": {
        "id": "B0Je4BKiLXNq",
        "colab_type": "code",
        "outputId": "c0e9c250-f5a5-467e-d3bb-aab574d2547a",
        "colab": {
          "base_uri": "https://localhost:8080/",
          "height": 85
        }
      },
      "source": [
        "for elemento in aparicoes:\n",
        "  print(elemento)"
      ],
      "execution_count": 0,
      "outputs": [
        {
          "output_type": "stream",
          "text": [
            "Guilherme\n",
            "cachorro\n",
            "nome\n",
            "vindo\n"
          ],
          "name": "stdout"
        }
      ]
    },
    {
      "cell_type": "code",
      "metadata": {
        "id": "9vrKaSRrM-Ci",
        "colab_type": "code",
        "outputId": "6be441d2-64da-45a0-d284-ce8094c8eed9",
        "colab": {
          "base_uri": "https://localhost:8080/",
          "height": 85
        }
      },
      "source": [
        "for elemento in aparicoes.keys():\n",
        "  print(elemento)"
      ],
      "execution_count": 0,
      "outputs": [
        {
          "output_type": "stream",
          "text": [
            "Guilherme\n",
            "cachorro\n",
            "nome\n",
            "vindo\n"
          ],
          "name": "stdout"
        }
      ]
    },
    {
      "cell_type": "code",
      "metadata": {
        "id": "sik5j2-KNZ6E",
        "colab_type": "code",
        "outputId": "1b407923-763a-4489-a4c1-d861b344bd4b",
        "colab": {
          "base_uri": "https://localhost:8080/",
          "height": 85
        }
      },
      "source": [
        "for elemento in aparicoes.values():\n",
        "  print(elemento)"
      ],
      "execution_count": 0,
      "outputs": [
        {
          "output_type": "stream",
          "text": [
            "1\n",
            "2\n",
            "2\n",
            "1\n"
          ],
          "name": "stdout"
        }
      ]
    },
    {
      "cell_type": "code",
      "metadata": {
        "id": "I8wfb0uLNrKH",
        "colab_type": "code",
        "outputId": "01e1a8ce-e9aa-40a3-fba6-324c0040256e",
        "colab": {
          "base_uri": "https://localhost:8080/",
          "height": 85
        }
      },
      "source": [
        "for elemento in aparicoes:\n",
        "  valor = aparicoes[elemento]\n",
        "  print(elemento,valor)"
      ],
      "execution_count": 0,
      "outputs": [
        {
          "output_type": "stream",
          "text": [
            "Guilherme 1\n",
            "cachorro 2\n",
            "nome 2\n",
            "vindo 1\n"
          ],
          "name": "stdout"
        }
      ]
    },
    {
      "cell_type": "code",
      "metadata": {
        "id": "tm6rrowiN-zc",
        "colab_type": "code",
        "outputId": "0257e904-3fce-4c28-fbb9-6d8ef7e673a4",
        "colab": {
          "base_uri": "https://localhost:8080/",
          "height": 85
        }
      },
      "source": [
        "for elemento in aparicoes.items():\n",
        "  print(elemento)"
      ],
      "execution_count": 0,
      "outputs": [
        {
          "output_type": "stream",
          "text": [
            "('Guilherme', 1)\n",
            "('cachorro', 2)\n",
            "('nome', 2)\n",
            "('vindo', 1)\n"
          ],
          "name": "stdout"
        }
      ]
    },
    {
      "cell_type": "code",
      "metadata": {
        "id": "AEyPKSraOSbq",
        "colab_type": "code",
        "outputId": "81b3e63f-b9dd-4c58-a692-19a88c1c2b2f",
        "colab": {
          "base_uri": "https://localhost:8080/",
          "height": 85
        }
      },
      "source": [
        "for chave,valor in aparicoes.items():\n",
        "  print(chave,' = ',valor)"
      ],
      "execution_count": 0,
      "outputs": [
        {
          "output_type": "stream",
          "text": [
            "Guilherme  =  1\n",
            "cachorro  =  2\n",
            "nome  =  2\n",
            "vindo  =  1\n"
          ],
          "name": "stdout"
        }
      ]
    },
    {
      "cell_type": "code",
      "metadata": {
        "id": "FXpJGkzxOvL9",
        "colab_type": "code",
        "outputId": "7cbc89f1-7b8c-497e-84d2-e11d643b48a5",
        "colab": {
          "base_uri": "https://localhost:8080/",
          "height": 34
        }
      },
      "source": [
        "['palavra {}'.format(chave) for chave in aparicoes.keys()]"
      ],
      "execution_count": 0,
      "outputs": [
        {
          "output_type": "execute_result",
          "data": {
            "text/plain": [
              "['palavra Guilherme', 'palavra cachorro', 'palavra nome', 'palavra vindo']"
            ]
          },
          "metadata": {
            "tags": []
          },
          "execution_count": 28
        }
      ]
    },
    {
      "cell_type": "code",
      "metadata": {
        "id": "JGc4Z2nKPZlR",
        "colab_type": "code",
        "colab": {}
      },
      "source": [
        ""
      ],
      "execution_count": 0,
      "outputs": []
    },
    {
      "cell_type": "code",
      "metadata": {
        "colab_type": "code",
        "outputId": "ba43a763-0b2d-4d54-db78-ca717636f1b4",
        "id": "G0r1pZBzQiT6",
        "colab": {
          "base_uri": "https://localhost:8080/",
          "height": 340
        }
      },
      "source": [
        "meu_texto = 'Bem vindo meu nome é Guilherme eu gosto de nomes eu tenho um cachorro e gosto muito de cachorro'\n",
        "meu_texto = meu_texto.lower()\n",
        "meu_texto.split()"
      ],
      "execution_count": 0,
      "outputs": [
        {
          "output_type": "execute_result",
          "data": {
            "text/plain": [
              "['bem',\n",
              " 'vindo',\n",
              " 'meu',\n",
              " 'nome',\n",
              " 'é',\n",
              " 'guilherme',\n",
              " 'eu',\n",
              " 'gosto',\n",
              " 'de',\n",
              " 'nomes',\n",
              " 'eu',\n",
              " 'tenho',\n",
              " 'um',\n",
              " 'cachorro',\n",
              " 'e',\n",
              " 'gosto',\n",
              " 'muito',\n",
              " 'de',\n",
              " 'cachorro']"
            ]
          },
          "metadata": {
            "tags": []
          },
          "execution_count": 31
        }
      ]
    },
    {
      "cell_type": "code",
      "metadata": {
        "id": "YYynyQhMTK9o",
        "colab_type": "code",
        "outputId": "8646a2cd-792b-400f-fac4-168d7b0ab8b4",
        "colab": {
          "base_uri": "https://localhost:8080/",
          "height": 272
        }
      },
      "source": [
        "aparicoes = {}\n",
        "for palavra in meu_texto.split():\n",
        "  ate_agora = aparicoes.get(palavra,0)\n",
        "  aparicoes[palavra] = ate_agora + 1\n",
        " \n",
        "aparicoes"
      ],
      "execution_count": 0,
      "outputs": [
        {
          "output_type": "execute_result",
          "data": {
            "text/plain": [
              "{'bem': 1,\n",
              " 'cachorro': 2,\n",
              " 'de': 2,\n",
              " 'e': 1,\n",
              " 'eu': 2,\n",
              " 'gosto': 2,\n",
              " 'guilherme': 1,\n",
              " 'meu': 1,\n",
              " 'muito': 1,\n",
              " 'nome': 1,\n",
              " 'nomes': 1,\n",
              " 'tenho': 1,\n",
              " 'um': 1,\n",
              " 'vindo': 1,\n",
              " 'é': 1}"
            ]
          },
          "metadata": {
            "tags": []
          },
          "execution_count": 38
        }
      ]
    },
    {
      "cell_type": "code",
      "metadata": {
        "id": "CaKbdfp_Tz18",
        "colab_type": "code",
        "outputId": "ef383f44-858b-4d4c-80c3-d13899ac920a",
        "colab": {
          "base_uri": "https://localhost:8080/",
          "height": 289
        }
      },
      "source": [
        "from collections import defaultdict\n",
        "\n",
        "aparicoes = defaultdict(int)\n",
        "\n",
        "for palavra in meu_texto.split():\n",
        "  ate_agora = aparicoes[palavra]\n",
        "  aparicoes[palavra] = ate_agora + 1\n",
        " \n",
        "aparicoes"
      ],
      "execution_count": 0,
      "outputs": [
        {
          "output_type": "execute_result",
          "data": {
            "text/plain": [
              "defaultdict(int,\n",
              "            {'bem': 1,\n",
              "             'cachorro': 2,\n",
              "             'de': 2,\n",
              "             'e': 1,\n",
              "             'eu': 2,\n",
              "             'gosto': 2,\n",
              "             'guilherme': 1,\n",
              "             'meu': 1,\n",
              "             'muito': 1,\n",
              "             'nome': 1,\n",
              "             'nomes': 1,\n",
              "             'tenho': 1,\n",
              "             'um': 1,\n",
              "             'vindo': 1,\n",
              "             'é': 1})"
            ]
          },
          "metadata": {
            "tags": []
          },
          "execution_count": 46
        }
      ]
    },
    {
      "cell_type": "code",
      "metadata": {
        "id": "v6BQ-UPNVTLF",
        "colab_type": "code",
        "outputId": "67a891ed-d846-49ff-94ad-7444de22c231",
        "colab": {
          "base_uri": "https://localhost:8080/",
          "height": 289
        }
      },
      "source": [
        "aparicoes = defaultdict(int)\n",
        "\n",
        "for palavra in meu_texto.split():\n",
        "  aparicoes[palavra] += 1\n",
        " \n",
        "aparicoes"
      ],
      "execution_count": 0,
      "outputs": [
        {
          "output_type": "execute_result",
          "data": {
            "text/plain": [
              "defaultdict(int,\n",
              "            {'bem': 1,\n",
              "             'cachorro': 2,\n",
              "             'de': 2,\n",
              "             'e': 1,\n",
              "             'eu': 2,\n",
              "             'gosto': 2,\n",
              "             'guilherme': 1,\n",
              "             'meu': 1,\n",
              "             'muito': 1,\n",
              "             'nome': 1,\n",
              "             'nomes': 1,\n",
              "             'tenho': 1,\n",
              "             'um': 1,\n",
              "             'vindo': 1,\n",
              "             'é': 1})"
            ]
          },
          "metadata": {
            "tags": []
          },
          "execution_count": 47
        }
      ]
    },
    {
      "cell_type": "code",
      "metadata": {
        "id": "tKhOy3ymXw6C",
        "colab_type": "code",
        "colab": {}
      },
      "source": [
        "class Conta:\n",
        "  def __init__(self):\n",
        "    print('Criando uma conta')"
      ],
      "execution_count": 0,
      "outputs": []
    },
    {
      "cell_type": "code",
      "metadata": {
        "id": "vPvKQxnuYBWj",
        "colab_type": "code",
        "colab": {}
      },
      "source": [
        "contas = defaultdict(Conta)"
      ],
      "execution_count": 0,
      "outputs": []
    },
    {
      "cell_type": "code",
      "metadata": {
        "id": "0572hKGuYMEU",
        "colab_type": "code",
        "outputId": "7c10a486-7095-4d8f-b0e7-0d9436b64ada",
        "colab": {
          "base_uri": "https://localhost:8080/",
          "height": 51
        }
      },
      "source": [
        "contas[15]"
      ],
      "execution_count": 0,
      "outputs": [
        {
          "output_type": "stream",
          "text": [
            "Criando uma conta\n"
          ],
          "name": "stdout"
        },
        {
          "output_type": "execute_result",
          "data": {
            "text/plain": [
              "<__main__.Conta at 0x7f7698b005f8>"
            ]
          },
          "metadata": {
            "tags": []
          },
          "execution_count": 53
        }
      ]
    },
    {
      "cell_type": "code",
      "metadata": {
        "id": "7X3QUCAXYN2k",
        "colab_type": "code",
        "outputId": "7a91b883-ecbe-4f6c-f958-ef3387ba130d",
        "colab": {
          "base_uri": "https://localhost:8080/",
          "height": 51
        }
      },
      "source": [
        "contas[17]"
      ],
      "execution_count": 0,
      "outputs": [
        {
          "output_type": "stream",
          "text": [
            "Criando uma conta\n"
          ],
          "name": "stdout"
        },
        {
          "output_type": "execute_result",
          "data": {
            "text/plain": [
              "<__main__.Conta at 0x7f7698b00e48>"
            ]
          },
          "metadata": {
            "tags": []
          },
          "execution_count": 54
        }
      ]
    },
    {
      "cell_type": "code",
      "metadata": {
        "id": "EB8M3iXzYhWG",
        "colab_type": "code",
        "outputId": "4af3847a-9a11-4f62-a500-16c1907dfb52",
        "colab": {
          "base_uri": "https://localhost:8080/",
          "height": 231
        }
      },
      "source": [
        "from collections import Counter\n",
        "\n",
        "aparicoes = Counter()\n",
        "\n",
        "for palavra in meu_texto.split():\n",
        "  aparicoes[palavra] += 1\n",
        " \n",
        "aparicoes"
      ],
      "execution_count": 0,
      "outputs": [
        {
          "output_type": "error",
          "ename": "NameError",
          "evalue": "ignored",
          "traceback": [
            "\u001b[0;31m---------------------------------------------------------------------------\u001b[0m",
            "\u001b[0;31mNameError\u001b[0m                                 Traceback (most recent call last)",
            "\u001b[0;32m<ipython-input-5-cb6959b76d74>\u001b[0m in \u001b[0;36m<module>\u001b[0;34m()\u001b[0m\n\u001b[1;32m      3\u001b[0m \u001b[0maparicoes\u001b[0m \u001b[0;34m=\u001b[0m \u001b[0mCounter\u001b[0m\u001b[0;34m(\u001b[0m\u001b[0;34m)\u001b[0m\u001b[0;34m\u001b[0m\u001b[0;34m\u001b[0m\u001b[0m\n\u001b[1;32m      4\u001b[0m \u001b[0;34m\u001b[0m\u001b[0m\n\u001b[0;32m----> 5\u001b[0;31m \u001b[0;32mfor\u001b[0m \u001b[0mpalavra\u001b[0m \u001b[0;32min\u001b[0m \u001b[0mmeu_texto\u001b[0m\u001b[0;34m.\u001b[0m\u001b[0msplit\u001b[0m\u001b[0;34m(\u001b[0m\u001b[0;34m)\u001b[0m\u001b[0;34m:\u001b[0m\u001b[0;34m\u001b[0m\u001b[0;34m\u001b[0m\u001b[0m\n\u001b[0m\u001b[1;32m      6\u001b[0m   \u001b[0maparicoes\u001b[0m\u001b[0;34m[\u001b[0m\u001b[0mpalavra\u001b[0m\u001b[0;34m]\u001b[0m \u001b[0;34m+=\u001b[0m \u001b[0;36m1\u001b[0m\u001b[0;34m\u001b[0m\u001b[0;34m\u001b[0m\u001b[0m\n\u001b[1;32m      7\u001b[0m \u001b[0;34m\u001b[0m\u001b[0m\n",
            "\u001b[0;31mNameError\u001b[0m: name 'meu_texto' is not defined"
          ]
        }
      ]
    },
    {
      "cell_type": "code",
      "metadata": {
        "id": "aiLZzr0xZhdf",
        "colab_type": "code",
        "outputId": "9672af8e-e47a-4ed4-e076-6e52ef88fc9c",
        "colab": {
          "base_uri": "https://localhost:8080/",
          "height": 272
        }
      },
      "source": [
        "aparicoes = Counter(meu_texto.split())\n",
        " \n",
        "aparicoes"
      ],
      "execution_count": 0,
      "outputs": [
        {
          "output_type": "execute_result",
          "data": {
            "text/plain": [
              "Counter({'bem': 1,\n",
              "         'cachorro': 2,\n",
              "         'de': 2,\n",
              "         'e': 1,\n",
              "         'eu': 2,\n",
              "         'gosto': 2,\n",
              "         'guilherme': 1,\n",
              "         'meu': 1,\n",
              "         'muito': 1,\n",
              "         'nome': 1,\n",
              "         'nomes': 1,\n",
              "         'tenho': 1,\n",
              "         'um': 1,\n",
              "         'vindo': 1,\n",
              "         'é': 1})"
            ]
          },
          "metadata": {
            "tags": []
          },
          "execution_count": 57
        }
      ]
    },
    {
      "cell_type": "code",
      "metadata": {
        "id": "srKhLdVSZ0fe",
        "colab_type": "code",
        "colab": {}
      },
      "source": [
        ""
      ],
      "execution_count": 0,
      "outputs": []
    },
    {
      "cell_type": "markdown",
      "metadata": {
        "id": "oMYzGLASaZV3",
        "colab_type": "text"
      },
      "source": [
        "#Testando o uso de diversas coleções"
      ]
    },
    {
      "cell_type": "code",
      "metadata": {
        "id": "-Y9A_zXcacPw",
        "colab_type": "code",
        "colab": {}
      },
      "source": [
        "texto1 = \"\"\"\n",
        "Estava trabalhando na busca de tópicos para o fórum da Alura. Quando a pessoa procurar por uma palavra que existe em algum tópico, temos que mostrar esse tópico para ela. Por exemplo, a pessoa busca por “Java“. Todo tópico que contém Java em seu título deve aparecer.\n",
        "\n",
        "Uma maneira de implementar isso é iterar pela lista de tópicos, isto é, captamos o texto do usuários e caminhamos por todos os itens de uma lista de tópicos para verificar se a palavra existe naquele tópico. Utilizando o Python como linguagem, temos algo próximo a isso:\n",
        "A complexidade do algoritmo\n",
        "\n",
        "O algoritmo passa por todos os itens da lista para fazer a busca pela palavra, ele faz uma busca linear. Ou seja, se a lista tiver 5 elementos, ele passará pelos 5, se tiver 20 pelos 20, se tiver um milhão, vai passar por todos os itens, ufa… O tempo que nosso algoritmo leva para percorrer depende do número de itens na lista. 5, 10, 15, até N itens.\n",
        "\n",
        "Logo, falamos que esse algoritmo tem complexidade O(n). De fato, é possível que todos os itens na lista tenham a palavra que estamos procurando, mas o que aconteceria se apenas o primeiro item tiver a palavra? Mesmo assim, teremos que percorrer todos os outros itens, apesar deles não terem o que procuramos.\n",
        "\n",
        "Pensando em performance, esse algoritmo não é tão bom. Estamos em um contexto web no fórum da Alura. Se a busca demorar muito, afeta a experiência do usuário. Como podemos criar um algoritmo que consiga descobrir quais itens da lista tem a palavra que buscamos sem afetar muito a performance?\n",
        "\n",
        "O poder dos hashes\n",
        "\n",
        "No caso, estamos utilizando uma lista para guardar nossos tópicos. Outra estrutura que podemos utilizar são os conjuntos, ou sets. Quando estudamos estruturas de dados, uma das primeiras coisas que sabemos sobre eles é que eles guardam apenas uma ocorrência do item que ele guarda. Ou seja, se declararmos um conjunto dessa forma:\n",
        "\n",
        "\"\"\""
      ],
      "execution_count": 0,
      "outputs": []
    },
    {
      "cell_type": "code",
      "metadata": {
        "id": "q5mKffJRa4ZR",
        "colab_type": "code",
        "colab": {}
      },
      "source": [
        "texto2 = \"\"\"\n",
        "Ficar em casa o máximo possível é fundamental nestes dias, por isso, muitas empresas apostaram no home office (em tradução livre, trabalho em casa), mesmo diante dos desafios que o envolvem.\n",
        "\n",
        "Muitas empresas em tecnologia já possibilitavam o trabalho remoto para seus colaboradores(as) em dias esporádicos na semana, mas este cenário do trabalho 100% em casa, para todos os times, é novo tanto para chefes, quanto para as pessoas que trabalham na empresa.\n",
        "\n",
        "Boas práticas para o home office\n",
        "\n",
        "Mantenha a rotina de pré-ida ao escritório: é tentador trabalhar de pijama e na cama o dia inteiro. Porém, acordar, tomar banho, trocar de roupa e tomar um bom café da manhã são hábitos indispensáveis para tornar seu dia produtivo;\n",
        "Estabeleça horários: assim como no escritório: você precisa ter um horário de início, de pausa e de finalização. Você está em casa, mas não precisa estar disponível o tempo inteiro;\n",
        "Escolha um lugar bom dentro de casa: acredite, você não vai conseguir se concentrar e produzir o mesmo se estiver trabalhando na cama ou no sofá. Escolha um lugar confortável, mas não a ponto de se tornar uma distração. É preciso se atentar, também, à iluminação do ambiente de trabalho, evitando desconfortos;\n",
        "Faça pausas: tome um café, estique as pernas. Fazer pausas é saudável e ajuda na produtividade. Prova disto é a técnica pomodoro, que foca na realização de tarefas em blocos de tempo;\n",
        "Aposte nas videoconferências: a comunicação síncrona (em tempo real) é muito importante para manter o fluxo de trabalho dentro de um time. As calls possibilitam isso, e elas não precisam ser sempre relacionadas a trabalho;\n",
        "Abra a câmera: pode parecer estranho, mas é importante aparecer na câmera, assim as pessoas do time conseguem te ver, isto aproxima a conversa ainda mais;\n",
        "Aproveite ferramentas que facilitam a comunicação, como: Hangouts Meet; Trello; Slack entre outras;\n",
        "Vá direto ao ponto: fale exatamente o que precisa com as pessoas. Desta forma, você facilita o trabalho de quem envia a dúvida e de quem vai respondê-la, criando um fluxo de conversa assertivo e otimizando tempo.\n",
        "Se você quer conhecer mais sobre o trabalho remoto e boas práticas, assista aqui o vídeo que gravamos com a Roberta Arcoverde, Desenvolvedora de Software na Stack Overflow, que já trabalha remotamente há 6 anos e tem muito a nos ensinar sobre esse modelo de trabalho.\n",
        "\n",
        "\n",
        "\"\"\""
      ],
      "execution_count": 0,
      "outputs": []
    },
    {
      "cell_type": "code",
      "metadata": {
        "id": "pXVKvZ05bm3l",
        "colab_type": "code",
        "colab": {}
      },
      "source": [
        "aparicoes = Counter(texto1.lower())\n",
        "total_de_caracteres = sum(aparicoes.values())"
      ],
      "execution_count": 0,
      "outputs": []
    },
    {
      "cell_type": "code",
      "metadata": {
        "id": "iEyzT_3qbpXq",
        "colab_type": "code",
        "outputId": "85e24fdb-805c-44a9-c6a1-8a6f81a12398",
        "colab": {
          "base_uri": "https://localhost:8080/",
          "height": 799
        }
      },
      "source": [
        "for letra, frequencia in aparicoes.items():\n",
        "  tupla = (letra, frequencia / total_de_caracteres)\n",
        "  print(tupla)\n"
      ],
      "execution_count": 0,
      "outputs": [
        {
          "output_type": "stream",
          "text": [
            "('\\n', 0.008515167642362959)\n",
            "('e', 0.08728046833422033)\n",
            "('s', 0.07503991484832358)\n",
            "('t', 0.04896221394358701)\n",
            "('a', 0.09952102182011709)\n",
            "('v', 0.009579563597658328)\n",
            "(' ', 0.1692389568919638)\n",
            "('r', 0.05534858967535923)\n",
            "('b', 0.006386375731772219)\n",
            "('l', 0.028738690792974985)\n",
            "('h', 0.0037253858435337944)\n",
            "('n', 0.027674294837679615)\n",
            "('d', 0.028206492815327302)\n",
            "('o', 0.08621607237892497)\n",
            "('u', 0.038850452368281004)\n",
            "('c', 0.023416711016498136)\n",
            "('ó', 0.005854177754124534)\n",
            "('p', 0.03352847259180415)\n",
            "('i', 0.041511442256519426)\n",
            "('f', 0.006918573709419904)\n",
            "('m', 0.041511442256519426)\n",
            "('.', 0.008515167642362959)\n",
            "('q', 0.010643959552953698)\n",
            "('x', 0.004789781798829164)\n",
            "('g', 0.007982969664715274)\n",
            "(',', 0.013837147418839808)\n",
            "('“', 0.0010643959552953698)\n",
            "('j', 0.0031931878658861094)\n",
            "('é', 0.0037253858435337944)\n",
            "('í', 0.0010643959552953698)\n",
            "('á', 0.0015965939329430547)\n",
            "('z', 0.0026609898882384245)\n",
            "('y', 0.0005321979776476849)\n",
            "(':', 0.0010643959552953698)\n",
            "('5', 0.0021287919105907396)\n",
            "('2', 0.0010643959552953698)\n",
            "('0', 0.0015965939329430547)\n",
            "('ã', 0.0026609898882384245)\n",
            "('…', 0.0005321979776476849)\n",
            "('ú', 0.0005321979776476849)\n",
            "('1', 0.0010643959552953698)\n",
            "('(', 0.0005321979776476849)\n",
            "(')', 0.0005321979776476849)\n",
            "('?', 0.0010643959552953698)\n",
            "('w', 0.0005321979776476849)\n",
            "('ê', 0.0010643959552953698)\n"
          ],
          "name": "stdout"
        }
      ]
    },
    {
      "cell_type": "code",
      "metadata": {
        "id": "jxO5oLk7c4eO",
        "colab_type": "code",
        "outputId": "19bb9887-1a88-49bc-91d3-25bd8e627a24",
        "colab": {
          "base_uri": "https://localhost:8080/",
          "height": 187
        }
      },
      "source": [
        "def analista_frequencia_de_letras(texto):\n",
        "  proporcoes = [(letra, frequencia / total_de_caracteres) for letra, frequencia in aparicoes.items()]\n",
        "  proporcoes = Counter(dict(proporcoes))\n",
        "  proporcoes.most_common(10)"
      ],
      "execution_count": 0,
      "outputs": [
        {
          "output_type": "execute_result",
          "data": {
            "text/plain": [
              "[(' ', 0.1692389568919638),\n",
              " ('a', 0.09952102182011709),\n",
              " ('e', 0.08728046833422033),\n",
              " ('o', 0.08621607237892497),\n",
              " ('s', 0.07503991484832358),\n",
              " ('r', 0.05534858967535923),\n",
              " ('t', 0.04896221394358701),\n",
              " ('i', 0.041511442256519426),\n",
              " ('m', 0.041511442256519426),\n",
              " ('u', 0.038850452368281004)]"
            ]
          },
          "metadata": {
            "tags": []
          },
          "execution_count": 10
        }
      ]
    },
    {
      "cell_type": "code",
      "metadata": {
        "id": "RW2iMYXNdchu",
        "colab_type": "code",
        "colab": {}
      },
      "source": [
        "def analisa_quantidade_de_letras(texto):\n",
        "  aparicoes = Counter(texto.lower())\n",
        "  total_de_caracteres = sum(aparicoes.values())\n",
        "\n",
        "  proporcoes = [(letra, frequencia / total_de_caracteres) for letra, frequencia in aparicoes.items()]\n",
        "  proporcoes = Counter(dict(proporcoes))\n",
        "  mais_comuns = proporcoes.most_common(10)\n",
        "  for caractere, proporcao in mais_comuns:\n",
        "    print('{} => {:.2f}%'.format(caractere,proporcao * 100))\n"
      ],
      "execution_count": 0,
      "outputs": []
    },
    {
      "cell_type": "code",
      "metadata": {
        "id": "pya6gT6uIT2e",
        "colab_type": "code",
        "outputId": "2001110a-5edd-48ca-9177-3bddee262fb0",
        "colab": {
          "base_uri": "https://localhost:8080/",
          "height": 187
        }
      },
      "source": [
        "analisa_quantidade_de_letras(texto)"
      ],
      "execution_count": 36,
      "outputs": [
        {
          "output_type": "stream",
          "text": [
            "  => 16.92%\n",
            "a => 9.95%\n",
            "e => 8.73%\n",
            "o => 8.62%\n",
            "s => 7.50%\n",
            "r => 5.53%\n",
            "t => 4.90%\n",
            "i => 4.15%\n",
            "m => 4.15%\n",
            "u => 3.89%\n"
          ],
          "name": "stdout"
        }
      ]
    },
    {
      "cell_type": "code",
      "metadata": {
        "id": "moOvrYuSIjKG",
        "colab_type": "code",
        "colab": {
          "base_uri": "https://localhost:8080/",
          "height": 187
        },
        "outputId": "e1503e43-80b8-4ec4-ef2c-1d49c28bb8c3"
      },
      "source": [
        "analisa_quantidade_de_letras(texto2)"
      ],
      "execution_count": 37,
      "outputs": [
        {
          "output_type": "stream",
          "text": [
            "  => 16.00%\n",
            "a => 10.88%\n",
            "e => 8.72%\n",
            "o => 8.59%\n",
            "s => 6.35%\n",
            "r => 5.84%\n",
            "t => 4.74%\n",
            "i => 4.45%\n",
            "m => 4.23%\n",
            "n => 3.73%\n"
          ],
          "name": "stdout"
        }
      ]
    },
    {
      "cell_type": "code",
      "metadata": {
        "id": "-JOPTgHKKinT",
        "colab_type": "code",
        "colab": {}
      },
      "source": [
        ""
      ],
      "execution_count": 0,
      "outputs": []
    }
  ]
}